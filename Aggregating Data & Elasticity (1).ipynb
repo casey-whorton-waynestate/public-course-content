{
 "cells": [
  {
   "cell_type": "markdown",
   "metadata": {},
   "source": [
    "# Aggregating Data & Elasticity\n",
    "\n",
    "+ Data Science Practicum for Business with Python\n",
    "+ Wayne State University\n",
    "+ Casey Whorton"
   ]
  },
  {
   "cell_type": "code",
   "execution_count": 1,
   "metadata": {},
   "outputs": [],
   "source": [
    "import numpy as np\n",
    "import pandas as pd\n",
    "import matplotlib.pyplot as plt\n",
    "import random\n",
    "import seaborn as sns\n",
    "import matplotlib.pyplot as plt\n",
    "import statsmodels.api as sm"
   ]
  },
  {
   "cell_type": "code",
   "execution_count": 2,
   "metadata": {},
   "outputs": [],
   "source": [
    "air = pd.read_csv('C:/Users/casey/OneDrive/Desktop/airfare.csv')\n",
    "air = air[air.origin == '\"DETROIT, MI\"']"
   ]
  },
  {
   "cell_type": "code",
   "execution_count": 1,
   "metadata": {},
   "outputs": [],
   "source": [
    "#df = pd.read_csv('C:/Users/casey/OneDrive/Desktop/datasci_practicum.csv')\n",
    "#df.head()"
   ]
  },
  {
   "cell_type": "markdown",
   "metadata": {},
   "source": [
    "# A Quick Intro to Elasticity\n",
    "## (...and why we need to aggregate our data)\n",
    "\n",
    "+ Elasticity is an economics term\n",
    "+ Refers to the change of demand to a change of price\n",
    "+ Here, when we say \"demand\" we mean sales of vehicles, but generally means the product is in demand...people want to buy it\n",
    "+ Sometimes, we'll use the word \"quantity\" to mean demand\n",
    "+ Elasticity is defined as the ratio of the percentage change in quantity to the percentage change in demand\n",
    "    + Elasticity = (change in quantity)/(change in price)\n",
    "+ How do you tell if there is a change in quantity with the data we currently have now?........."
   ]
  },
  {
   "cell_type": "code",
   "execution_count": 4,
   "metadata": {},
   "outputs": [
    {
     "data": {
      "image/png": "[encoded data removed]",
      "text/plain": [
       "<Figure size 432x288 with 1 Axes>"
      ]
     },
     "metadata": {
      "needs_background": "light"
     },
     "output_type": "display_data"
    }
   ],
   "source": [
    "quantity = np.arange(10,35,5)\n",
    "price = np.arange(25,20,-1)\n",
    "plt.scatter(quantity,price)\n",
    "plt.title('Quantity change to price change')\n",
    "plt.xlabel('Quantity Demanded')\n",
    "plt.ylabel('Price of Product')\n",
    "plt.show()"
   ]
  },
  {
   "cell_type": "code",
   "execution_count": 5,
   "metadata": {},
   "outputs": [
    {
     "name": "stdout",
     "output_type": "stream",
     "text": [
      "-8.0\n"
     ]
    }
   ],
   "source": [
    "change_quantity = (20-15)/15\n",
    "change_price = (23-24)/24\n",
    "print(change_quantity/change_price)"
   ]
  },
  {
   "cell_type": "code",
   "execution_count": 6,
   "metadata": {},
   "outputs": [
    {
     "name": "stdout",
     "output_type": "stream",
     "text": [
      "-5.75\n"
     ]
    }
   ],
   "source": [
    "change_quantity = (25-20)/20\n",
    "change_price = (22-23)/23\n",
    "print(change_quantity/change_price)"
   ]
  },
  {
   "cell_type": "code",
   "execution_count": 7,
   "metadata": {},
   "outputs": [
    {
     "name": "stdout",
     "output_type": "stream",
     "text": [
      "-4.4\n"
     ]
    }
   ],
   "source": [
    "change_quantity = (30-25)/25\n",
    "change_price = (21-22)/22\n",
    "print(change_quantity/change_price)"
   ]
  },
  {
   "cell_type": "code",
   "execution_count": 8,
   "metadata": {},
   "outputs": [
    {
     "name": "stdout",
     "output_type": "stream",
     "text": [
      "-3.5\n"
     ]
    }
   ],
   "source": [
    "change_quantity = (35-30)/30\n",
    "change_price = (20-21)/21\n",
    "print(change_quantity/change_price)"
   ]
  },
  {
   "cell_type": "code",
   "execution_count": 9,
   "metadata": {},
   "outputs": [
    {
     "name": "stdout",
     "output_type": "stream",
     "text": [
      "-2.0\n"
     ]
    }
   ],
   "source": [
    "change_quantity = (50-45)/45\n",
    "change_price = (17-18)/18\n",
    "print(change_quantity/change_price)"
   ]
  },
  {
   "cell_type": "markdown",
   "metadata": {},
   "source": [
    "Remember what our data looks like............."
   ]
  },
  {
   "cell_type": "markdown",
   "metadata": {},
   "source": [
    "# Aggregating Data\n",
    "\n",
    "+ Group by function\n",
    "+ Works like a SQL \"group by\" clause\n",
    "+ Need to specifiy the columns to group by\n",
    "    + Then, an aggregation function to aggregate the remaining columns\n",
    "+ Aggregation functions in python commonly used:\n",
    "    + sum\n",
    "    + mean\n",
    "    + median\n",
    "    + max\n",
    "    + min\n",
    "    + count"
   ]
  },
  {
   "cell_type": "code",
   "execution_count": 10,
   "metadata": {},
   "outputs": [
    {
     "data": {
      "text/html": [
       "<div>\n",
       "<style scoped>\n",
       "    .dataframe tbody tr th:only-of-type {\n",
       "        vertical-align: middle;\n",
       "    }\n",
       "\n",
       "    .dataframe tbody tr th {\n",
       "        vertical-align: top;\n",
       "    }\n",
       "\n",
       "    .dataframe thead th {\n",
       "        text-align: right;\n",
       "    }\n",
       "</style>\n",
       "<table border=\"1\" class=\"dataframe\">\n",
       "  <thead>\n",
       "    <tr style=\"text-align: right;\">\n",
       "      <th></th>\n",
       "      <th>id</th>\n",
       "      <th>distance</th>\n",
       "      <th>passenger</th>\n",
       "      <th>fair</th>\n",
       "      <th>bmktshr</th>\n",
       "      <th>ldist</th>\n",
       "      <th>y98</th>\n",
       "      <th>y99</th>\n",
       "      <th>y100</th>\n",
       "      <th>lfare</th>\n",
       "      <th>ldistsq</th>\n",
       "      <th>concen</th>\n",
       "      <th>lpassen</th>\n",
       "    </tr>\n",
       "    <tr>\n",
       "      <th>year</th>\n",
       "      <th></th>\n",
       "      <th></th>\n",
       "      <th></th>\n",
       "      <th></th>\n",
       "      <th></th>\n",
       "      <th></th>\n",
       "      <th></th>\n",
       "      <th></th>\n",
       "      <th></th>\n",
       "      <th></th>\n",
       "      <th></th>\n",
       "      <th></th>\n",
       "      <th></th>\n",
       "    </tr>\n",
       "  </thead>\n",
       "  <tbody>\n",
       "    <tr>\n",
       "      <th>1997</th>\n",
       "      <td>22854</td>\n",
       "      <td>40263</td>\n",
       "      <td>21215</td>\n",
       "      <td>7026</td>\n",
       "      <td>26.7958</td>\n",
       "      <td>262.869067</td>\n",
       "      <td>0</td>\n",
       "      <td>0</td>\n",
       "      <td>0</td>\n",
       "      <td>200.335041</td>\n",
       "      <td>1789.12839</td>\n",
       "      <td>26.7958</td>\n",
       "      <td>235.270416</td>\n",
       "    </tr>\n",
       "    <tr>\n",
       "      <th>1998</th>\n",
       "      <td>22854</td>\n",
       "      <td>40263</td>\n",
       "      <td>22349</td>\n",
       "      <td>6944</td>\n",
       "      <td>25.4464</td>\n",
       "      <td>262.869067</td>\n",
       "      <td>39</td>\n",
       "      <td>0</td>\n",
       "      <td>0</td>\n",
       "      <td>199.747368</td>\n",
       "      <td>1789.12839</td>\n",
       "      <td>25.4464</td>\n",
       "      <td>235.625334</td>\n",
       "    </tr>\n",
       "    <tr>\n",
       "      <th>1999</th>\n",
       "      <td>22854</td>\n",
       "      <td>40263</td>\n",
       "      <td>24576</td>\n",
       "      <td>6992</td>\n",
       "      <td>24.3589</td>\n",
       "      <td>262.869067</td>\n",
       "      <td>0</td>\n",
       "      <td>39</td>\n",
       "      <td>0</td>\n",
       "      <td>199.990650</td>\n",
       "      <td>1789.12839</td>\n",
       "      <td>24.3589</td>\n",
       "      <td>237.810807</td>\n",
       "    </tr>\n",
       "    <tr>\n",
       "      <th>2000</th>\n",
       "      <td>22854</td>\n",
       "      <td>40263</td>\n",
       "      <td>23395</td>\n",
       "      <td>7681</td>\n",
       "      <td>23.2989</td>\n",
       "      <td>262.869067</td>\n",
       "      <td>0</td>\n",
       "      <td>0</td>\n",
       "      <td>39</td>\n",
       "      <td>204.444492</td>\n",
       "      <td>1789.12839</td>\n",
       "      <td>23.2989</td>\n",
       "      <td>236.201205</td>\n",
       "    </tr>\n",
       "  </tbody>\n",
       "</table>\n",
       "</div>"
      ],
      "text/plain": [
       "         id  distance  passenger  fair  bmktshr       ldist  y98  y99  y100  \\\n",
       "year                                                                          \n",
       "1997  22854     40263      21215  7026  26.7958  262.869067    0    0     0   \n",
       "1998  22854     40263      22349  6944  25.4464  262.869067   39    0     0   \n",
       "1999  22854     40263      24576  6992  24.3589  262.869067    0   39     0   \n",
       "2000  22854     40263      23395  7681  23.2989  262.869067    0    0    39   \n",
       "\n",
       "           lfare     ldistsq   concen     lpassen  \n",
       "year                                               \n",
       "1997  200.335041  1789.12839  26.7958  235.270416  \n",
       "1998  199.747368  1789.12839  25.4464  235.625334  \n",
       "1999  199.990650  1789.12839  24.3589  237.810807  \n",
       "2000  204.444492  1789.12839  23.2989  236.201205  "
      ]
     },
     "execution_count": 10,
     "metadata": {},
     "output_type": "execute_result"
    }
   ],
   "source": [
    "air.groupby('year').sum()"
   ]
  },
  {
   "cell_type": "code",
   "execution_count": null,
   "metadata": {},
   "outputs": [],
   "source": []
  },
  {
   "cell_type": "markdown",
   "metadata": {},
   "source": [
    "**To Do**\n",
    "+ group the dataframe by the 'year' column\n",
    "+ use the median function as the aggregate function"
   ]
  },
  {
   "cell_type": "code",
   "execution_count": null,
   "metadata": {},
   "outputs": [],
   "source": []
  },
  {
   "cell_type": "markdown",
   "metadata": {},
   "source": [
    "**To Do**\n",
    "+ Instead of a single column, pass a list to the group by function\n",
    "+ include the names 'year' and 'destination' separated by commas"
   ]
  },
  {
   "cell_type": "code",
   "execution_count": 13,
   "metadata": {},
   "outputs": [],
   "source": [
    "# Write code here\n",
    "\n"
   ]
  },
  {
   "cell_type": "markdown",
   "metadata": {},
   "source": [
    "**What if we want to do more than average all values or sum all values?**"
   ]
  },
  {
   "cell_type": "code",
   "execution_count": 14,
   "metadata": {},
   "outputs": [
    {
     "data": {
      "text/html": [
       "<div>\n",
       "<style scoped>\n",
       "    .dataframe tbody tr th:only-of-type {\n",
       "        vertical-align: middle;\n",
       "    }\n",
       "\n",
       "    .dataframe tbody tr th {\n",
       "        vertical-align: top;\n",
       "    }\n",
       "\n",
       "    .dataframe thead th {\n",
       "        text-align: right;\n",
       "    }\n",
       "</style>\n",
       "<table border=\"1\" class=\"dataframe\">\n",
       "  <thead>\n",
       "    <tr style=\"text-align: right;\">\n",
       "      <th></th>\n",
       "      <th>distance</th>\n",
       "      <th>passenger</th>\n",
       "    </tr>\n",
       "    <tr>\n",
       "      <th>year</th>\n",
       "      <th></th>\n",
       "      <th></th>\n",
       "    </tr>\n",
       "  </thead>\n",
       "  <tbody>\n",
       "    <tr>\n",
       "      <th>1997</th>\n",
       "      <td>1032.384615</td>\n",
       "      <td>21215</td>\n",
       "    </tr>\n",
       "    <tr>\n",
       "      <th>1998</th>\n",
       "      <td>1032.384615</td>\n",
       "      <td>22349</td>\n",
       "    </tr>\n",
       "    <tr>\n",
       "      <th>1999</th>\n",
       "      <td>1032.384615</td>\n",
       "      <td>24576</td>\n",
       "    </tr>\n",
       "    <tr>\n",
       "      <th>2000</th>\n",
       "      <td>1032.384615</td>\n",
       "      <td>23395</td>\n",
       "    </tr>\n",
       "  </tbody>\n",
       "</table>\n",
       "</div>"
      ],
      "text/plain": [
       "         distance  passenger\n",
       "year                        \n",
       "1997  1032.384615      21215\n",
       "1998  1032.384615      22349\n",
       "1999  1032.384615      24576\n",
       "2000  1032.384615      23395"
      ]
     },
     "execution_count": 14,
     "metadata": {},
     "output_type": "execute_result"
    }
   ],
   "source": [
    "# This part is a little more complicated\n",
    "# The idea is very simple, but the syntax is different and takes getting used to\n",
    "# The grouping column is still the same, but we have to specify what aggregator function is applied to which column\n",
    "# This can be very time consuming\n",
    "\n",
    "air.groupby('year').agg({'distance':'mean','passenger':'sum'})"
   ]
  },
  {
   "cell_type": "markdown",
   "metadata": {},
   "source": [
    "**To Do**\n",
    "+ Import the dataframe for the class\n",
    "+ Group the data using a group by function in pandas\n",
    "+ Here is what I want it to look like\n",
    "    + Group by x_body_mdl_desc\n",
    "    + Aggregate the MSRP column by average\n",
    "    + Count the number of rows - corresponds to sales"
   ]
  },
  {
   "cell_type": "code",
   "execution_count": null,
   "metadata": {},
   "outputs": [],
   "source": []
  },
  {
   "cell_type": "markdown",
   "metadata": {},
   "source": [
    "**To Do**\n",
    "+ Create a new dataframe that is the result of grouping our data set by nameplate_case and solddate\n",
    "+ Take the average MSRP and the count of rows"
   ]
  },
  {
   "cell_type": "code",
   "execution_count": 16,
   "metadata": {},
   "outputs": [],
   "source": [
    "# Write your code here\n",
    "\n"
   ]
  },
  {
   "cell_type": "markdown",
   "metadata": {},
   "source": [
    "# Elasticity"
   ]
  },
  {
   "cell_type": "markdown",
   "metadata": {},
   "source": [
    "**To Do**\n",
    "+ Display the relationship between the # of passengers on a flight and the average fair on the flight\n"
   ]
  },
  {
   "cell_type": "code",
   "execution_count": 68,
   "metadata": {},
   "outputs": [],
   "source": [
    "# Write code here (use seaborn.regplot)\n"
   ]
  },
  {
   "cell_type": "markdown",
   "metadata": {},
   "source": [
    "**Of course, there are many other factors, but this picture works well in this scenario**"
   ]
  },
  {
   "cell_type": "code",
   "execution_count": 21,
   "metadata": {},
   "outputs": [],
   "source": [
    "# Run this code\n",
    "\n",
    "x = np.log(air.passenger)\n",
    "x.plot()\n"
   ]
  },
  {
   "cell_type": "markdown",
   "metadata": {},
   "source": [
    "**To Do**\n",
    "+ Look at the documentation on the differences between level-level & log-log models\n",
    "+ Plot the relationship between the logged number of passengers and the logged fair of the plane ticket\n",
    "    + What is the general relationship here?\n",
    "    + Referring to the documentation, what would the slope of the line mean in terms of a business problem?\n",
    "        + Remember, this is looking at the number of passengers on a flight and the price of a ticket...basically supply and demand (we know that the # of passengers might determine price and vice versa, but this works for this problem)"
   ]
  },
  {
   "cell_type": "code",
   "execution_count": 67,
   "metadata": {},
   "outputs": [],
   "source": [
    "# Write code here (use seaborn.regplot)"
   ]
  },
  {
   "cell_type": "markdown",
   "metadata": {},
   "source": [
    "**To Do**\n",
    "+ Run the code cell below\n",
    "+ Look at the coefficient on 'Fair'\n",
    "+ What is the interpretation and what does it mean for this problem?"
   ]
  },
  {
   "cell_type": "code",
   "execution_count": 27,
   "metadata": {},
   "outputs": [
    {
     "data": {
      "text/html": [
       "<table class=\"simpletable\">\n",
       "<caption>OLS Regression Results</caption>\n",
       "<tr>\n",
       "  <th>Dep. Variable:</th>        <td>passenger</td>    <th>  R-squared:         </th> <td>   0.113</td>\n",
       "</tr>\n",
       "<tr>\n",
       "  <th>Model:</th>                   <td>OLS</td>       <th>  Adj. R-squared:    </th> <td>   0.107</td>\n",
       "</tr>\n",
       "<tr>\n",
       "  <th>Method:</th>             <td>Least Squares</td>  <th>  F-statistic:       </th> <td>   19.60</td>\n",
       "</tr>\n",
       "<tr>\n",
       "  <th>Date:</th>             <td>Tue, 17 Mar 2020</td> <th>  Prob (F-statistic):</th> <td>1.80e-05</td>\n",
       "</tr>\n",
       "<tr>\n",
       "  <th>Time:</th>                 <td>19:57:15</td>     <th>  Log-Likelihood:    </th> <td> -174.93</td>\n",
       "</tr>\n",
       "<tr>\n",
       "  <th>No. Observations:</th>      <td>   156</td>      <th>  AIC:               </th> <td>   353.9</td>\n",
       "</tr>\n",
       "<tr>\n",
       "  <th>Df Residuals:</th>          <td>   154</td>      <th>  BIC:               </th> <td>   360.0</td>\n",
       "</tr>\n",
       "<tr>\n",
       "  <th>Df Model:</th>              <td>     1</td>      <th>                     </th>     <td> </td>   \n",
       "</tr>\n",
       "<tr>\n",
       "  <th>Covariance Type:</th>      <td>nonrobust</td>    <th>                     </th>     <td> </td>   \n",
       "</tr>\n",
       "</table>\n",
       "<table class=\"simpletable\">\n",
       "<tr>\n",
       "    <td></td>       <th>coef</th>     <th>std err</th>      <th>t</th>      <th>P>|t|</th>  <th>[0.025</th>    <th>0.975]</th>  \n",
       "</tr>\n",
       "<tr>\n",
       "  <th>const</th> <td>   10.1080</td> <td>    0.917</td> <td>   11.022</td> <td> 0.000</td> <td>    8.296</td> <td>   11.920</td>\n",
       "</tr>\n",
       "<tr>\n",
       "  <th>fair</th>  <td>   -0.7855</td> <td>    0.177</td> <td>   -4.427</td> <td> 0.000</td> <td>   -1.136</td> <td>   -0.435</td>\n",
       "</tr>\n",
       "</table>\n",
       "<table class=\"simpletable\">\n",
       "<tr>\n",
       "  <th>Omnibus:</th>       <td> 1.218</td> <th>  Durbin-Watson:     </th> <td>   0.578</td>\n",
       "</tr>\n",
       "<tr>\n",
       "  <th>Prob(Omnibus):</th> <td> 0.544</td> <th>  Jarque-Bera (JB):  </th> <td>   1.205</td>\n",
       "</tr>\n",
       "<tr>\n",
       "  <th>Skew:</th>          <td> 0.104</td> <th>  Prob(JB):          </th> <td>   0.547</td>\n",
       "</tr>\n",
       "<tr>\n",
       "  <th>Kurtosis:</th>      <td> 2.623</td> <th>  Cond. No.          </th> <td>    82.2</td>\n",
       "</tr>\n",
       "</table><br/><br/>Warnings:<br/>[1] Standard Errors assume that the covariance matrix of the errors is correctly specified."
      ],
      "text/plain": [
       "<class 'statsmodels.iolib.summary.Summary'>\n",
       "\"\"\"\n",
       "                            OLS Regression Results                            \n",
       "==============================================================================\n",
       "Dep. Variable:              passenger   R-squared:                       0.113\n",
       "Model:                            OLS   Adj. R-squared:                  0.107\n",
       "Method:                 Least Squares   F-statistic:                     19.60\n",
       "Date:                Tue, 17 Mar 2020   Prob (F-statistic):           1.80e-05\n",
       "Time:                        19:57:15   Log-Likelihood:                -174.93\n",
       "No. Observations:                 156   AIC:                             353.9\n",
       "Df Residuals:                     154   BIC:                             360.0\n",
       "Df Model:                           1                                         \n",
       "Covariance Type:            nonrobust                                         \n",
       "==============================================================================\n",
       "                 coef    std err          t      P>|t|      [0.025      0.975]\n",
       "------------------------------------------------------------------------------\n",
       "const         10.1080      0.917     11.022      0.000       8.296      11.920\n",
       "fair          -0.7855      0.177     -4.427      0.000      -1.136      -0.435\n",
       "==============================================================================\n",
       "Omnibus:                        1.218   Durbin-Watson:                   0.578\n",
       "Prob(Omnibus):                  0.544   Jarque-Bera (JB):                1.205\n",
       "Skew:                           0.104   Prob(JB):                        0.547\n",
       "Kurtosis:                       2.623   Cond. No.                         82.2\n",
       "==============================================================================\n",
       "\n",
       "Warnings:\n",
       "[1] Standard Errors assume that the covariance matrix of the errors is correctly specified.\n",
       "\"\"\""
      ]
     },
     "execution_count": 27,
     "metadata": {},
     "output_type": "execute_result"
    }
   ],
   "source": [
    "exog = np.log(air.fair)\n",
    "exog = sm.add_constant(exog)\n",
    "y = np.log(air.passenger)\n",
    "model_fit = sm.OLS(y,exog).fit()\n",
    "model_fit.summary()"
   ]
  },
  {
   "cell_type": "code",
   "execution_count": 54,
   "metadata": {},
   "outputs": [
    {
     "data": {
      "text/plain": [
       "<matplotlib.axes._subplots.AxesSubplot at 0x1c71c1c3780>"
      ]
     },
     "execution_count": 54,
     "metadata": {},
     "output_type": "execute_result"
    },
    {
     "data": {
      "image/png": "[encoded data removed]",
      "text/plain": [
       "<Figure size 432x288 with 1 Axes>"
      ]
     },
     "metadata": {
      "needs_background": "light"
     },
     "output_type": "display_data"
    }
   ],
   "source": [
    "# Run this...look at the logx\n",
    "\n",
    "sns.regplot(y = (air.passenger), x = air.fair,logx=True)"
   ]
  },
  {
   "cell_type": "markdown",
   "metadata": {},
   "source": [
    "**To Do**\n",
    "+ Create a vector for price using the numpy arange function\n",
    "    + Use increments of 25 between 100 and 350\n",
    "    + The function looks like this: numpy.arange(start, stop, increment)\n",
    "+ Create a function for quantity (passenger) that uses the price vector the coefficients we fit befor to make our quantity (demand) function\n",
    "    + Hint: We are just writing the regression formula from the model summary above\n",
    "+ Plot it using the plt.scatter function\n",
    "    + The function goes like this: plt.scatter(x = \"the x axis variable\", y = \"the y axis variable\")"
   ]
  },
  {
   "cell_type": "code",
   "execution_count": 66,
   "metadata": {},
   "outputs": [],
   "source": []
  },
  {
   "cell_type": "code",
   "execution_count": null,
   "metadata": {},
   "outputs": [],
   "source": []
  },
  {
   "cell_type": "markdown",
   "metadata": {},
   "source": [
    "Notice in the above chart that, when there is a fitted elasticity that is constant, there is a diminishing return on lowering price to gain demand.  For each increase of price (going to the right) we see a marginal decrease of quantity or demand.  This is totally expected from this chart, and this is a good assumption to start with for creating elasticity models."
   ]
  },
  {
   "cell_type": "markdown",
   "metadata": {},
   "source": [
    "# Homework\n",
    "\n",
    "+ Aggregate the dataframe for the project by nameplate and solddate\n",
    "+ Use the count of rows for to represent sales\n",
    "+ Use the average MSRP to represent price (because it basically is)\n",
    "+ Create a log-log model between the sales and MSRP and display the model summary\n",
    "+ Interpret the coefficient on MSRP in terms of the problem\n",
    "+ Plot the logged relationship between the values\n",
    "+ Create a vector for prices in the price range of the cars being sold in the dataset\n",
    "+ Create a quantity function using the fitted model\n",
    "+ Plot the results using a scatterplot\n",
    "+ Create a multiple linear regression model with any inputs you want to use\n",
    "    + Make sure the MSRP is one of them\n",
    "+ Display the fitted model summary and interpret the coefficient on price now....did it change?....Does it still make sense?\n",
    "    + What would you do differently with the data before fitting this model?\n",
    "+ Write down your results and thoughts and share them with your team in the group chat\n",
    "+ By the way, say hello to your team on team chat\n",
    "+ Submit your homework by saving a copy of this notebook with all of your work in it to your github and notify me to review it\n",
    "+ Make sure your name is on it somewhere"
   ]
  },
  {
   "cell_type": "code",
   "execution_count": null,
   "metadata": {},
   "outputs": [],
   "source": []
  }
 ],
 "metadata": {
  "kernelspec": {
   "display_name": "Python 3",
   "language": "python",
   "name": "python3"
  },
  "language_info": {
   "codemirror_mode": {
    "name": "ipython",
    "version": 3
   },
   "file_extension": ".py",
   "mimetype": "text/x-python",
   "name": "python",
   "nbconvert_exporter": "python",
   "pygments_lexer": "ipython3",
   "version": "3.7.3"
  }
 },
 "nbformat": 4,
 "nbformat_minor": 2
}
