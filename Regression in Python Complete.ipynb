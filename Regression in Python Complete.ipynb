{
 "cells": [
  {
   "cell_type": "markdown",
   "metadata": {},
   "source": [
    "# Regression in Python Complete.ipynb\n",
    "\n",
    "+ Data Science Practicum for Business with Python\n",
    "+ Wayne State University\n",
    "+ Casey Whorton\n",
    "+ 3.12.2020"
   ]
  },
  {
   "cell_type": "code",
   "execution_count": 1,
   "metadata": {},
   "outputs": [],
   "source": [
    "import pandas as pd\n",
    "import numpy as np\n",
    "\n",
    "import seaborn as sns\n",
    "import matplotlib.pyplot as plt\n",
    "\n",
    "import statsmodels.api as sm"
   ]
  },
  {
   "cell_type": "markdown",
   "metadata": {},
   "source": [
    "## Import data into DataFrame \"df\"\n",
    "\n",
    "+ Filter to Detroit Michigan"
   ]
  },
  {
   "cell_type": "code",
   "execution_count": 2,
   "metadata": {},
   "outputs": [],
   "source": [
    "df = pd.read_csv('C:/Users/casey/OneDrive/Desktop/airfare.csv')\n",
    "df = df[df.origin == '\"DETROIT, MI\"']"
   ]
  },
  {
   "cell_type": "markdown",
   "metadata": {},
   "source": [
    "# Simple Linear Regression with statsmodels\n",
    "\n",
    "+ The package we will use at first is called 'statsmodels', specifically the statmodels.api package\n",
    "+ Look for it online for syntax and all of the methods associated\n",
    "+ More than just ordinary least squares (OLS) is involved\n",
    "\n",
    "**Remember the basic equation:** y ~ b0 + b1*_x_\n",
    "\n",
    "+ To train a regression model using the OLS method (or really any model/algorithm) we will need observations for y and x\n",
    "+ Lets use the fair of the plane ticket for the y and the distance traveled for the x\n",
    "+ For each y there needs to be an observation for x"
   ]
  },
  {
   "cell_type": "code",
   "execution_count": 3,
   "metadata": {},
   "outputs": [
    {
     "name": "stderr",
     "output_type": "stream",
     "text": [
      "C:\\Users\\casey\\Anaconda3\\lib\\site-packages\\numpy\\core\\fromnumeric.py:2389: FutureWarning: Method .ptp is deprecated and will be removed in a future version. Use numpy.ptp instead.\n",
      "  return ptp(axis=axis, out=out, **kwargs)\n"
     ]
    },
    {
     "data": {
      "text/html": [
       "<div>\n",
       "<style scoped>\n",
       "    .dataframe tbody tr th:only-of-type {\n",
       "        vertical-align: middle;\n",
       "    }\n",
       "\n",
       "    .dataframe tbody tr th {\n",
       "        vertical-align: top;\n",
       "    }\n",
       "\n",
       "    .dataframe thead th {\n",
       "        text-align: right;\n",
       "    }\n",
       "</style>\n",
       "<table border=\"1\" class=\"dataframe\">\n",
       "  <thead>\n",
       "    <tr style=\"text-align: right;\">\n",
       "      <th></th>\n",
       "      <th>const</th>\n",
       "      <th>distance</th>\n",
       "    </tr>\n",
       "  </thead>\n",
       "  <tbody>\n",
       "    <tr>\n",
       "      <th>2264</th>\n",
       "      <td>1.0</td>\n",
       "      <td>1127</td>\n",
       "    </tr>\n",
       "    <tr>\n",
       "      <th>2265</th>\n",
       "      <td>1.0</td>\n",
       "      <td>1127</td>\n",
       "    </tr>\n",
       "    <tr>\n",
       "      <th>2266</th>\n",
       "      <td>1.0</td>\n",
       "      <td>1127</td>\n",
       "    </tr>\n",
       "    <tr>\n",
       "      <th>2267</th>\n",
       "      <td>1.0</td>\n",
       "      <td>1127</td>\n",
       "    </tr>\n",
       "    <tr>\n",
       "      <th>2268</th>\n",
       "      <td>1.0</td>\n",
       "      <td>1085</td>\n",
       "    </tr>\n",
       "  </tbody>\n",
       "</table>\n",
       "</div>"
      ],
      "text/plain": [
       "      const  distance\n",
       "2264    1.0      1127\n",
       "2265    1.0      1127\n",
       "2266    1.0      1127\n",
       "2267    1.0      1127\n",
       "2268    1.0      1085"
      ]
     },
     "execution_count": 3,
     "metadata": {},
     "output_type": "execute_result"
    }
   ],
   "source": [
    "# TO DO: run the code in this cell\n",
    "y = df.fair\n",
    "x = df.distance\n",
    "x = sm.add_constant(x) # this step adds a column of 1s, so that a constant is fitted to the regression equation\n",
    "x.head()"
   ]
  },
  {
   "cell_type": "code",
   "execution_count": 6,
   "metadata": {},
   "outputs": [
    {
     "data": {
      "text/plain": [
       "2264    133\n",
       "2265    133\n",
       "2266    144\n",
       "2267    151\n",
       "2268    131\n",
       "Name: fair, dtype: int64"
      ]
     },
     "execution_count": 6,
     "metadata": {},
     "output_type": "execute_result"
    }
   ],
   "source": [
    "# TO DO: print the first five observations for the target variable, y\n",
    "y.head()"
   ]
  },
  {
   "cell_type": "markdown",
   "metadata": {},
   "source": [
    "It looks like you have everything you need to fit a regression model.  The code below shows the steps for creating a model instance, fitting it (training) and displaying a summary of the model."
   ]
  },
  {
   "cell_type": "code",
   "execution_count": 4,
   "metadata": {},
   "outputs": [
    {
     "data": {
      "text/html": [
       "<table class=\"simpletable\">\n",
       "<caption>OLS Regression Results</caption>\n",
       "<tr>\n",
       "  <th>Dep. Variable:</th>          <td>fair</td>       <th>  R-squared:         </th> <td>   0.254</td>\n",
       "</tr>\n",
       "<tr>\n",
       "  <th>Model:</th>                   <td>OLS</td>       <th>  Adj. R-squared:    </th> <td>   0.249</td>\n",
       "</tr>\n",
       "<tr>\n",
       "  <th>Method:</th>             <td>Least Squares</td>  <th>  F-statistic:       </th> <td>   52.33</td>\n",
       "</tr>\n",
       "<tr>\n",
       "  <th>Date:</th>             <td>Sun, 15 Mar 2020</td> <th>  Prob (F-statistic):</th> <td>2.06e-11</td>\n",
       "</tr>\n",
       "<tr>\n",
       "  <th>Time:</th>                 <td>20:06:39</td>     <th>  Log-Likelihood:    </th> <td> -839.88</td>\n",
       "</tr>\n",
       "<tr>\n",
       "  <th>No. Observations:</th>      <td>   156</td>      <th>  AIC:               </th> <td>   1684.</td>\n",
       "</tr>\n",
       "<tr>\n",
       "  <th>Df Residuals:</th>          <td>   154</td>      <th>  BIC:               </th> <td>   1690.</td>\n",
       "</tr>\n",
       "<tr>\n",
       "  <th>Df Model:</th>              <td>     1</td>      <th>                     </th>     <td> </td>   \n",
       "</tr>\n",
       "<tr>\n",
       "  <th>Covariance Type:</th>      <td>nonrobust</td>    <th>                     </th>     <td> </td>   \n",
       "</tr>\n",
       "</table>\n",
       "<table class=\"simpletable\">\n",
       "<tr>\n",
       "      <td></td>        <th>coef</th>     <th>std err</th>      <th>t</th>      <th>P>|t|</th>  <th>[0.025</th>    <th>0.975]</th>  \n",
       "</tr>\n",
       "<tr>\n",
       "  <th>const</th>    <td>  131.0652</td> <td>    8.414</td> <td>   15.577</td> <td> 0.000</td> <td>  114.443</td> <td>  147.687</td>\n",
       "</tr>\n",
       "<tr>\n",
       "  <th>distance</th> <td>    0.0509</td> <td>    0.007</td> <td>    7.234</td> <td> 0.000</td> <td>    0.037</td> <td>    0.065</td>\n",
       "</tr>\n",
       "</table>\n",
       "<table class=\"simpletable\">\n",
       "<tr>\n",
       "  <th>Omnibus:</th>       <td>10.877</td> <th>  Durbin-Watson:     </th> <td>   0.753</td>\n",
       "</tr>\n",
       "<tr>\n",
       "  <th>Prob(Omnibus):</th> <td> 0.004</td> <th>  Jarque-Bera (JB):  </th> <td>  11.388</td>\n",
       "</tr>\n",
       "<tr>\n",
       "  <th>Skew:</th>          <td> 0.629</td> <th>  Prob(JB):          </th> <td> 0.00337</td>\n",
       "</tr>\n",
       "<tr>\n",
       "  <th>Kurtosis:</th>      <td> 2.586</td> <th>  Cond. No.          </th> <td>2.37e+03</td>\n",
       "</tr>\n",
       "</table><br/><br/>Warnings:<br/>[1] Standard Errors assume that the covariance matrix of the errors is correctly specified.<br/>[2] The condition number is large, 2.37e+03. This might indicate that there are<br/>strong multicollinearity or other numerical problems."
      ],
      "text/plain": [
       "<class 'statsmodels.iolib.summary.Summary'>\n",
       "\"\"\"\n",
       "                            OLS Regression Results                            \n",
       "==============================================================================\n",
       "Dep. Variable:                   fair   R-squared:                       0.254\n",
       "Model:                            OLS   Adj. R-squared:                  0.249\n",
       "Method:                 Least Squares   F-statistic:                     52.33\n",
       "Date:                Sun, 15 Mar 2020   Prob (F-statistic):           2.06e-11\n",
       "Time:                        20:06:39   Log-Likelihood:                -839.88\n",
       "No. Observations:                 156   AIC:                             1684.\n",
       "Df Residuals:                     154   BIC:                             1690.\n",
       "Df Model:                           1                                         \n",
       "Covariance Type:            nonrobust                                         \n",
       "==============================================================================\n",
       "                 coef    std err          t      P>|t|      [0.025      0.975]\n",
       "------------------------------------------------------------------------------\n",
       "const        131.0652      8.414     15.577      0.000     114.443     147.687\n",
       "distance       0.0509      0.007      7.234      0.000       0.037       0.065\n",
       "==============================================================================\n",
       "Omnibus:                       10.877   Durbin-Watson:                   0.753\n",
       "Prob(Omnibus):                  0.004   Jarque-Bera (JB):               11.388\n",
       "Skew:                           0.629   Prob(JB):                      0.00337\n",
       "Kurtosis:                       2.586   Cond. No.                     2.37e+03\n",
       "==============================================================================\n",
       "\n",
       "Warnings:\n",
       "[1] Standard Errors assume that the covariance matrix of the errors is correctly specified.\n",
       "[2] The condition number is large, 2.37e+03. This might indicate that there are\n",
       "strong multicollinearity or other numerical problems.\n",
       "\"\"\""
      ]
     },
     "execution_count": 4,
     "metadata": {},
     "output_type": "execute_result"
    }
   ],
   "source": [
    "model = sm.OLS(y,x) # Creating an OLS regression model with y as the target (endog in the literature) and x as the predictor (exog in the literature)\n",
    "model_fit = model.fit() # Fitting/training model and assigning the resulting fitted model to \"model_fit\"\n",
    "model_fit.summary() # Using the \"summary\" method, displaying the results of the fitted model (similar to R output)"
   ]
  },
  {
   "cell_type": "markdown",
   "metadata": {},
   "source": [
    "**Some quick notes on these results**\n",
    "+ For this course, we won't need to dive into all of the statistics displayed here.\n",
    "+ Let's focus on the estimates for the coefficients, their p-values, and the R-squared values\n",
    "\n",
    "+ R-squared\n",
    "    + Proportion of variance explained by the model (the predictor variables)\n",
    "    + Higher is better, with 1 being the best and 0 (or negative) being the worst\n",
    "    + Not in the units of the target variable\n",
    "    + Can be useful for comparing models and communicating with stakeholders (this is a commonly used metric)\n",
    "    \n",
    "+ Coefficient estimates\n",
    "    + These are the resulting fitted coefficients from the data we passed to the model to be trained on\n",
    "    + The value under 'coef' is the value we would place in our regression equation, if we wanted to write it out\n",
    "    + For example, our regression equation here would be: fair = 131 + 0.0509*distance\n",
    "    \n",
    "+ p-values for the estimates\n",
    "    + These values display the probability of getting this estimate under a null hypothesis of no relationship existing\n",
    "    + For example, the p-value for 'distance' is very small, which means that there is a low probability of getting this coefficient just by chance\n",
    "    + Viewing the p-values can tell us if a single explanatory variable is helpful in our model, but the p-values will all change based on the explantory variables used in the model\n",
    "    "
   ]
  },
  {
   "cell_type": "markdown",
   "metadata": {},
   "source": [
    "**Accessing model fit results programmatically with Python is easy**\n",
    "\n",
    "+ After fitting a model, the object containing the fitted model is called something like a 'Results' or 'ResultsWrapper' (see below)\n",
    "+ There are methods available for the fitted model that can return the errors or predictions generated from the model\n",
    "\n",
    "Reference:\n",
    "https://www.statsmodels.org/stable/generated/statsmodels.regression.linear_model.RegressionResults.html"
   ]
  },
  {
   "cell_type": "code",
   "execution_count": 6,
   "metadata": {},
   "outputs": [],
   "source": [
    "# To Do: Run this cell\n",
    "print(model_fit)"
   ]
  },
  {
   "cell_type": "markdown",
   "metadata": {},
   "source": [
    "## Some ways to visualize results\n",
    "\n",
    "+ For simple linear regression (a single explanatory variable) you can show the plot of the target versus the explanatory variable, not relevant for multiple regression\n",
    "+ Plot the actual target values versus the predicted target values and look for a correlation (a higher correlation means a better or more consistent prediction)\n",
    "+ Plot the errors the model makes (actual - predicted), and plot it in order\n",
    "    + The errors should be evenly and randomly distributed around 0, but real-world data doesn't always give this type of result"
   ]
  },
  {
   "cell_type": "code",
   "execution_count": 7,
   "metadata": {},
   "outputs": [
    {
     "data": {
      "image/png": "[encoded data removed]",
      "text/plain": [
       "<Figure size 432x288 with 1 Axes>"
      ]
     },
     "metadata": {
      "needs_background": "light"
     },
     "output_type": "display_data"
    }
   ],
   "source": [
    "sns.regplot(x = 'distance', y = 'fair', data = df)\n",
    "plt.show()"
   ]
  },
  {
   "cell_type": "markdown",
   "metadata": {},
   "source": [
    "fair = 131.0652 + 0.0509*distance\n",
    "\n",
    "+ the target variable is _fair_\n",
    "+ the features, or explanatory variables, include _distance_\n",
    "+ on average, the fair increases by 0.0509 dollars for every unit of distance (miles) while everything else is constant"
   ]
  },
  {
   "cell_type": "code",
   "execution_count": 8,
   "metadata": {},
   "outputs": [
    {
     "data": {
      "image/png": "[encoded data removed]",
      "text/plain": [
       "<Figure size 432x288 with 1 Axes>"
      ]
     },
     "metadata": {
      "needs_background": "light"
     },
     "output_type": "display_data"
    }
   ],
   "source": [
    "plt.scatter(x=model_fit.predict(),y=y)\n",
    "plt.title('actual versus predicted')\n",
    "plt.show()"
   ]
  },
  {
   "cell_type": "code",
   "execution_count": 10,
   "metadata": {},
   "outputs": [
    {
     "data": {
      "image/png": "[encoded data removed]",
      "text/plain": [
       "<Figure size 432x288 with 1 Axes>"
      ]
     },
     "metadata": {
      "needs_background": "light"
     },
     "output_type": "display_data"
    }
   ],
   "source": [
    "# plot the residuals (errors)\n",
    "plt.plot(model_fit.resid)\n",
    "plt.hlines(y=0, xmin=2260, xmax=2420)\n",
    "plt.show()"
   ]
  },
  {
   "cell_type": "markdown",
   "metadata": {},
   "source": [
    "## Accessing model elements using the results methods, attributes, and properties\n",
    "\n",
    "+ Check out the documentation\n",
    "+ A method is a procedure or function associated with an object, here it is a model results\n",
    "+ We already used the summary method\n",
    "+ Try the predict method\n",
    "+ Try looking at the \"params\" from the model\n",
    "+ Try looking at the r_squared from the model"
   ]
  },
  {
   "cell_type": "code",
   "execution_count": 11,
   "metadata": {},
   "outputs": [
    {
     "data": {
      "text/plain": [
       "array([188.42447623, 188.42447623, 188.42447623, 188.42447623,\n",
       "       186.28686321])"
      ]
     },
     "execution_count": 11,
     "metadata": {},
     "output_type": "execute_result"
    }
   ],
   "source": [
    "# To Do: Run this code\n",
    "\n",
    "model_fit.predict()[0:5]"
   ]
  },
  {
   "cell_type": "code",
   "execution_count": 12,
   "metadata": {},
   "outputs": [
    {
     "data": {
      "text/plain": [
       "2778.96744099111"
      ]
     },
     "execution_count": 12,
     "metadata": {},
     "output_type": "execute_result"
    }
   ],
   "source": [
    "errors = (y - model_fit.predict())**2\n",
    "errors.mean()"
   ]
  },
  {
   "cell_type": "code",
   "execution_count": 13,
   "metadata": {},
   "outputs": [
    {
     "data": {
      "text/plain": [
       "2264   -55.424476\n",
       "2265   -55.424476\n",
       "2266   -44.424476\n",
       "2267   -37.424476\n",
       "2268   -55.286863\n",
       "dtype: float64"
      ]
     },
     "execution_count": 13,
     "metadata": {},
     "output_type": "execute_result"
    }
   ],
   "source": [
    "# To Do: Compare what we did with the \"errors\" to the resid method\n",
    "model_fit.resid[0:5]"
   ]
  },
  {
   "cell_type": "code",
   "execution_count": 14,
   "metadata": {},
   "outputs": [
    {
     "data": {
      "text/plain": [
       "2778.96744099111"
      ]
     },
     "execution_count": 14,
     "metadata": {},
     "output_type": "execute_result"
    }
   ],
   "source": [
    "# Notice this is a shortcut of manually calculating the error\n",
    "(model_fit.resid**2).mean()"
   ]
  },
  {
   "cell_type": "markdown",
   "metadata": {},
   "source": [
    "**To Do:**\n",
    "+ Display the parameter of the coefficient for 'distance'\n",
    "+ Display the r_squared value for the model\n",
    "+ Display the adjusted r_squared value for the model"
   ]
  },
  {
   "cell_type": "code",
   "execution_count": 16,
   "metadata": {},
   "outputs": [],
   "source": [
    "#print(model_fit.params['distance'])"
   ]
  },
  {
   "cell_type": "code",
   "execution_count": 17,
   "metadata": {},
   "outputs": [],
   "source": [
    "#print(model_fit.rsquared)"
   ]
  },
  {
   "cell_type": "code",
   "execution_count": 18,
   "metadata": {},
   "outputs": [],
   "source": [
    "#print(model_fit.rsquared_adj)"
   ]
  },
  {
   "cell_type": "markdown",
   "metadata": {},
   "source": [
    "# Multiple Linear Regression in Python\n",
    "\n",
    "+ Here, we are going to add another explanatory variable to the model\n",
    "+ We'll follow some of the same steps with simple linear regression"
   ]
  },
  {
   "cell_type": "markdown",
   "metadata": {},
   "source": [
    "**To Do**\n",
    "+ Create a dataframe of explanatory variables\n",
    "    + Use both distance and destination and years and bmktshr"
   ]
  },
  {
   "cell_type": "code",
   "execution_count": 25,
   "metadata": {},
   "outputs": [],
   "source": [
    "explaners = ['distance','bmktshr','y98','y99','y100']"
   ]
  },
  {
   "cell_type": "code",
   "execution_count": 26,
   "metadata": {},
   "outputs": [
    {
     "data": {
      "text/html": [
       "<div>\n",
       "<style scoped>\n",
       "    .dataframe tbody tr th:only-of-type {\n",
       "        vertical-align: middle;\n",
       "    }\n",
       "\n",
       "    .dataframe tbody tr th {\n",
       "        vertical-align: top;\n",
       "    }\n",
       "\n",
       "    .dataframe thead th {\n",
       "        text-align: right;\n",
       "    }\n",
       "</style>\n",
       "<table border=\"1\" class=\"dataframe\">\n",
       "  <thead>\n",
       "    <tr style=\"text-align: right;\">\n",
       "      <th></th>\n",
       "      <th>distance</th>\n",
       "      <th>bmktshr</th>\n",
       "      <th>y98</th>\n",
       "      <th>y99</th>\n",
       "      <th>y100</th>\n",
       "    </tr>\n",
       "  </thead>\n",
       "  <tbody>\n",
       "    <tr>\n",
       "      <th>2264</th>\n",
       "      <td>1127</td>\n",
       "      <td>0.5812</td>\n",
       "      <td>0</td>\n",
       "      <td>0</td>\n",
       "      <td>0</td>\n",
       "    </tr>\n",
       "    <tr>\n",
       "      <th>2265</th>\n",
       "      <td>1127</td>\n",
       "      <td>0.5010</td>\n",
       "      <td>1</td>\n",
       "      <td>0</td>\n",
       "      <td>0</td>\n",
       "    </tr>\n",
       "    <tr>\n",
       "      <th>2266</th>\n",
       "      <td>1127</td>\n",
       "      <td>0.4394</td>\n",
       "      <td>0</td>\n",
       "      <td>1</td>\n",
       "      <td>0</td>\n",
       "    </tr>\n",
       "    <tr>\n",
       "      <th>2267</th>\n",
       "      <td>1127</td>\n",
       "      <td>0.5174</td>\n",
       "      <td>0</td>\n",
       "      <td>0</td>\n",
       "      <td>1</td>\n",
       "    </tr>\n",
       "    <tr>\n",
       "      <th>2268</th>\n",
       "      <td>1085</td>\n",
       "      <td>0.5482</td>\n",
       "      <td>0</td>\n",
       "      <td>0</td>\n",
       "      <td>0</td>\n",
       "    </tr>\n",
       "  </tbody>\n",
       "</table>\n",
       "</div>"
      ],
      "text/plain": [
       "      distance  bmktshr  y98  y99  y100\n",
       "2264      1127   0.5812    0    0     0\n",
       "2265      1127   0.5010    1    0     0\n",
       "2266      1127   0.4394    0    1     0\n",
       "2267      1127   0.5174    0    0     1\n",
       "2268      1085   0.5482    0    0     0"
      ]
     },
     "execution_count": 26,
     "metadata": {},
     "output_type": "execute_result"
    }
   ],
   "source": [
    "df[explaners].head()"
   ]
  },
  {
   "cell_type": "markdown",
   "metadata": {},
   "source": [
    "**To Do**\n",
    "+ Fit a model using the fair variable as the target and the explaners as explanatory variables\n",
    "+ Display the actuals versus the predicted values\n",
    "+ What the does the coefficient on y98 mean?"
   ]
  },
  {
   "cell_type": "code",
   "execution_count": 41,
   "metadata": {},
   "outputs": [],
   "source": [
    "y = df.fair\n",
    "x = df[explaners]"
   ]
  },
  {
   "cell_type": "code",
   "execution_count": 45,
   "metadata": {},
   "outputs": [],
   "source": [
    "#model = sm.OLS(y,x) # Creating an OLS regression model with y as the target (endog in the literature) and x as the predictor (exog in the literature)\n",
    "#model_fit = model.fit() # Fitting/training model and assigning the resulting fitted model to \"model_fit\"\n",
    "#model_fit.summary() # Using the \"summary\" method, displaying the results of the fitted model (similar to R output)"
   ]
  },
  {
   "cell_type": "code",
   "execution_count": null,
   "metadata": {},
   "outputs": [],
   "source": [
    "#plt.scatter(x=model_fit.predict(),y=y)\n",
    "#plt.title('actual versus predicted')\n",
    "#plt.show()"
   ]
  },
  {
   "cell_type": "markdown",
   "metadata": {},
   "source": [
    "**To Do**\n",
    "+ Use the pandas.get_dummies function to make indicator variables\n",
    "+ Concatenate the destination variables with the other explanatory variables"
   ]
  },
  {
   "cell_type": "code",
   "execution_count": 29,
   "metadata": {},
   "outputs": [],
   "source": [
    "# Use the pandas.get_dummies function to make indicator variables\n",
    "# concatenate\n",
    "y = df.fair\n",
    "x = pd.concat([pd.get_dummies(df.destination),df[explaners]],axis=1)"
   ]
  },
  {
   "cell_type": "markdown",
   "metadata": {},
   "source": [
    "**To Do**\n",
    "+ Fit a model using the fair variable as the target and the remaining explaners and distance as the explanatory variables\n",
    "+ Display the actuals versus the predicted values"
   ]
  },
  {
   "cell_type": "code",
   "execution_count": 42,
   "metadata": {},
   "outputs": [],
   "source": [
    "#model = sm.OLS(y,x) # Creating an OLS regression model with y as the target (endog in the literature) and x as the predictor (exog in the literature)\n",
    "#model_fit = model.fit() # Fitting/training model and assigning the resulting fitted model to \"model_fit\"\n",
    "#model_fit.summary() # Using the \"summary\" method, displaying the results of the fitted model (similar to R output)"
   ]
  },
  {
   "cell_type": "code",
   "execution_count": 43,
   "metadata": {},
   "outputs": [],
   "source": [
    "#plt.scatter(x=model_fit.predict(),y=y)\n",
    "#plt.title('actual versus predicted')\n",
    "#plt.show()"
   ]
  },
  {
   "cell_type": "markdown",
   "metadata": {},
   "source": [
    "**To Do**\n",
    "+ Examine the difference between the relationship between fair and distance, and the relatiionship between lfair and ldist\n",
    "+ Use the seaborn regplot\n",
    "+ What is the difference?"
   ]
  },
  {
   "cell_type": "code",
   "execution_count": 39,
   "metadata": {},
   "outputs": [
    {
     "data": {
      "text/plain": [
       "<matplotlib.axes._subplots.AxesSubplot at 0x2155e86c278>"
      ]
     },
     "execution_count": 39,
     "metadata": {},
     "output_type": "execute_result"
    },
    {
     "data": {
      "image/png": "[encoded data removed]",
      "text/plain": [
       "<Figure size 432x288 with 1 Axes>"
      ]
     },
     "metadata": {
      "needs_background": "light"
     },
     "output_type": "display_data"
    }
   ],
   "source": [
    "sns.regplot(x = 'distance', y = 'fair', data = df)"
   ]
  },
  {
   "cell_type": "code",
   "execution_count": 40,
   "metadata": {},
   "outputs": [
    {
     "data": {
      "text/plain": [
       "<matplotlib.axes._subplots.AxesSubplot at 0x2155fa62400>"
      ]
     },
     "execution_count": 40,
     "metadata": {},
     "output_type": "execute_result"
    },
    {
     "data": {
      "image/png": "[encoded data removed]",
      "text/plain": [
       "<Figure size 432x288 with 1 Axes>"
      ]
     },
     "metadata": {
      "needs_background": "light"
     },
     "output_type": "display_data"
    }
   ],
   "source": [
    "sns.regplot(x = 'ldist', y = 'lfare', data = df)"
   ]
  },
  {
   "cell_type": "code",
   "execution_count": null,
   "metadata": {},
   "outputs": [],
   "source": []
  }
 ],
 "metadata": {
  "kernelspec": {
   "display_name": "Python 3",
   "language": "python",
   "name": "python3"
  },
  "language_info": {
   "codemirror_mode": {
    "name": "ipython",
    "version": 3
   },
   "file_extension": ".py",
   "mimetype": "text/x-python",
   "name": "python",
   "nbconvert_exporter": "python",
   "pygments_lexer": "ipython3",
   "version": "3.7.3"
  }
 },
 "nbformat": 4,
 "nbformat_minor": 2
}
