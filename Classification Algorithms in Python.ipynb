{
 "cells": [
  {
   "cell_type": "markdown",
   "metadata": {},
   "source": [
    "# Classification Algorithms in Python.ipynb\n",
    "\n",
    "+ Data Science Practicum for Business with Python\n",
    "+ Wayne State University\n",
    "+ Casey Whorton\n",
    "+ 3.24.2020"
   ]
  },
  {
   "cell_type": "code",
   "execution_count": 1,
   "metadata": {},
   "outputs": [],
   "source": [
    "%matplotlib inline\n",
    "import matplotlib\n",
    "import matplotlib.pyplot as plt\n",
    "import pandas as pd\n",
    "import numpy as np"
   ]
  },
  {
   "cell_type": "markdown",
   "metadata": {},
   "source": [
    "**Import the MNIST dataset from sklearn and output CSVs**"
   ]
  },
  {
   "cell_type": "code",
   "execution_count": 2,
   "metadata": {},
   "outputs": [],
   "source": [
    "from sklearn.datasets import fetch_openml\n",
    "mnist = fetch_openml('mnist_784')"
   ]
  },
  {
   "cell_type": "code",
   "execution_count": 3,
   "metadata": {},
   "outputs": [],
   "source": [
    "mnist_data = pd.DataFrame(mnist.data.reshape(70000,784))\n",
    "mnist_target = pd.DataFrame(mnist.target)"
   ]
  },
  {
   "cell_type": "code",
   "execution_count": 195,
   "metadata": {},
   "outputs": [],
   "source": [
    "mnist_data.to_csv('C:/Users/casey/OneDrive/Desktop/mnist_data.csv')\n",
    "mnist_target.to_csv('C:/Users/casey/OneDrive/Desktop/mnist_target.csv')"
   ]
  },
  {
   "cell_type": "markdown",
   "metadata": {},
   "source": [
    "# A quick note on Training, Validation, and Testing Datasets"
   ]
  },
  {
   "cell_type": "markdown",
   "metadata": {},
   "source": [
    "+ When creating machine learning models, some algorithms have the tendency to learn from the data very well\n",
    "    + In fact, they learn a little too well from the examples they are given, and return predictions very well only for the data they learned from\n",
    "    + They don't perform well on new data\n",
    "    + We call this phenomena _overfitting_ and we have have to be careful not to do it here\n",
    "+ We want models that _generalize_ well to new data so we can use them in practice\n",
    "    + A great way to determine how well a model will generalize is to calculate performance measures, like the MSE we talked about last week, on a set of data the model has not seen before\n",
    "        + We'll call this test data\n",
    "    + While training the model, we can further split our training dataset into training data and validation data and do much the same thing: calculate a performance metric on the data _not_ used in training\n",
    "        + We'll call this validation data\n",
    "    + Of course, the data we use to train the model is called training data\n",
    "\n",
    "There is a lot of literature on the best ways to split data, but generally we want a majority of our data for training and a minority for validation and test data....as long as the amount of test data is meaningful.\n",
    "\n",
    "Our regression models used all of the training data and we attributed a performance metric based on training data...this might be good for a first look but not good enough for real world practice\n",
    "\n",
    "If we had 10000 observations in our dataset, we might split it like this:\n",
    "+ 70000: training data\n",
    "+ 20000: validation data\n",
    "+ 10000: testing data\n",
    "\n",
    "Or maybe, use cross validation within our training data\n",
    "+ 80000: training data\n",
    "+ 20000: testing data\n",
    "\n",
    "\n",
    "\n",
    "\n",
    "**To Do**\n",
    "+ Execute the next two pieces of code\n",
    "+ Notice that we are reducing our data and splitting it up into _training_ and _testing_ datasets"
   ]
  },
  {
   "cell_type": "code",
   "execution_count": 196,
   "metadata": {},
   "outputs": [
    {
     "name": "stdout",
     "output_type": "stream",
     "text": [
      "(70000, 784)\n",
      "(70000,)\n"
     ]
    }
   ],
   "source": [
    "X, y = mnist['data'], mnist['target']\n",
    "print(X.shape)\n",
    "print(y.shape)"
   ]
  },
  {
   "cell_type": "code",
   "execution_count": 197,
   "metadata": {},
   "outputs": [],
   "source": [
    "X_train = X[0:100]\n",
    "y_train = y[0:100]\n",
    "X_test = X[101:201]\n",
    "y_test = y[101:201]"
   ]
  },
  {
   "cell_type": "markdown",
   "metadata": {},
   "source": [
    "# MNIST data - Take a look"
   ]
  },
  {
   "cell_type": "markdown",
   "metadata": {},
   "source": [
    "https://matplotlib.org/api/_as_gen/matplotlib.pyplot.imshow.html"
   ]
  },
  {
   "cell_type": "code",
   "execution_count": 199,
   "metadata": {},
   "outputs": [
    {
     "data": {
      "image/png": "[encoded data removed]",
      "text/plain": [
       "<Figure size 432x288 with 1 Axes>"
      ]
     },
     "metadata": {
      "needs_background": "light"
     },
     "output_type": "display_data"
    }
   ],
   "source": [
    "mynumber = X_train[15]\n",
    "mynumber_img = mynumber.reshape(28,28)\n",
    "plt.imshow(mynumber_img)\n",
    "plt.show()"
   ]
  },
  {
   "cell_type": "markdown",
   "metadata": {},
   "source": [
    "# Binary Classification using Logistic Regression\n",
    "+ This is the algorithm with the cost function we looked at in the slide-deck"
   ]
  },
  {
   "cell_type": "code",
   "execution_count": 200,
   "metadata": {},
   "outputs": [
    {
     "name": "stderr",
     "output_type": "stream",
     "text": [
      "C:\\Users\\casey\\Anaconda3\\lib\\site-packages\\sklearn\\linear_model\\logistic.py:433: FutureWarning: Default solver will be changed to 'lbfgs' in 0.22. Specify a solver to silence this warning.\n",
      "  FutureWarning)\n"
     ]
    },
    {
     "data": {
      "text/plain": [
       "LogisticRegression(C=1.0, class_weight=None, dual=False, fit_intercept=True,\n",
       "          intercept_scaling=1, max_iter=100, multi_class='warn',\n",
       "          n_jobs=None, penalty='l2', random_state=None, solver='warn',\n",
       "          tol=0.0001, verbose=0, warm_start=False)"
      ]
     },
     "execution_count": 200,
     "metadata": {},
     "output_type": "execute_result"
    }
   ],
   "source": [
    "from sklearn.linear_model import LogisticRegression\n",
    "\n",
    "log_reg = LogisticRegression()\n",
    "\n",
    "# splitting into 7s and not 7s\n",
    "\n",
    "y7_train = (y_train=='7')\n",
    "y7_test = (y_test == '7')\n",
    "\n",
    "log_reg.fit(X_train,y7_train)"
   ]
  },
  {
   "cell_type": "code",
   "execution_count": 201,
   "metadata": {},
   "outputs": [
    {
     "data": {
      "text/plain": [
       "array([False,  True])"
      ]
     },
     "execution_count": 201,
     "metadata": {},
     "output_type": "execute_result"
    }
   ],
   "source": [
    "# classes that the model recognizes (False and True for 7s)\n",
    "log_reg.classes_"
   ]
  },
  {
   "cell_type": "code",
   "execution_count": 202,
   "metadata": {},
   "outputs": [
    {
     "data": {
      "text/plain": [
       "array([[3.44700666e-05, 9.99965530e-01]])"
      ]
     },
     "execution_count": 202,
     "metadata": {},
     "output_type": "execute_result"
    }
   ],
   "source": [
    "# predict_proba predicts the probability that a number belongs to one of the classes in 'classes_'\n",
    "log_reg.predict_proba([mynumber])"
   ]
  },
  {
   "cell_type": "code",
   "execution_count": 203,
   "metadata": {},
   "outputs": [
    {
     "data": {
      "text/plain": [
       "array([ True])"
      ]
     },
     "execution_count": 203,
     "metadata": {},
     "output_type": "execute_result"
    }
   ],
   "source": [
    "# predict will predict the class\n",
    "log_reg.predict([mynumber])"
   ]
  },
  {
   "cell_type": "markdown",
   "metadata": {},
   "source": [
    "**To do**\n",
    "+ Check out this new number, the 90th number from our training data\n",
    "+ Use the predict_proba method to predict the probability the number falls into class\n",
    "+ Use the predict method to determine if it is a 7 or not"
   ]
  },
  {
   "cell_type": "code",
   "execution_count": 204,
   "metadata": {},
   "outputs": [
    {
     "data": {
      "image/png": "[encoded data removed]",
      "text/plain": [
       "<Figure size 432x288 with 1 Axes>"
      ]
     },
     "metadata": {
      "needs_background": "light"
     },
     "output_type": "display_data"
    }
   ],
   "source": [
    "mynumber = X_test[90]\n",
    "mynumber_img = mynumber.reshape(28,28)\n",
    "plt.imshow(mynumber_img)\n",
    "plt.show()"
   ]
  },
  {
   "cell_type": "code",
   "execution_count": 221,
   "metadata": {},
   "outputs": [],
   "source": [
    "# Write your code here\n"
   ]
  },
  {
   "cell_type": "code",
   "execution_count": 222,
   "metadata": {},
   "outputs": [],
   "source": [
    "# Write your code here\n"
   ]
  },
  {
   "cell_type": "markdown",
   "metadata": {},
   "source": [
    "# Performance Measures\n",
    "\n",
    "For regression we saw the MSE for a performance measure...we also saw the R-squared metric.\n",
    "\n",
    "Here we will look at three performance measures for classification models:\n",
    "\n",
    "+ Accuracy\n",
    "+ Precision\n",
    "+ Recall\n",
    "\n",
    "Here is how we calculate them, which we'll do in a moment:\n",
    "\n",
    "+ Accuracy := (True Positives + True Negatives)/Total\n",
    "+ Precision := (True Positives)/(True Positives + False Positives)\n",
    "+ Recall := (True Positives)/(True Positives + False Negatives)"
   ]
  },
  {
   "cell_type": "code",
   "execution_count": 164,
   "metadata": {},
   "outputs": [],
   "source": [
    "from sklearn.metrics import precision_score, recall_score, accuracy_score"
   ]
  },
  {
   "cell_type": "code",
   "execution_count": 207,
   "metadata": {},
   "outputs": [
    {
     "data": {
      "text/plain": [
       "0.96"
      ]
     },
     "execution_count": 207,
     "metadata": {},
     "output_type": "execute_result"
    }
   ],
   "source": [
    "# Run this code\n",
    "# This shows the accuracy calculated using the logistic regression model\n",
    "\n",
    "accuracy_score(y7_test,log_reg.predict(X_test))"
   ]
  },
  {
   "cell_type": "code",
   "execution_count": 208,
   "metadata": {},
   "outputs": [
    {
     "data": {
      "text/plain": [
       "0.8888888888888888"
      ]
     },
     "execution_count": 208,
     "metadata": {},
     "output_type": "execute_result"
    }
   ],
   "source": [
    "# Similarly for precision\n",
    "\n",
    "precision_score(y7_test,log_reg.predict(X_test))"
   ]
  },
  {
   "cell_type": "code",
   "execution_count": 209,
   "metadata": {},
   "outputs": [
    {
     "data": {
      "text/plain": [
       "0.7272727272727273"
      ]
     },
     "execution_count": 209,
     "metadata": {},
     "output_type": "execute_result"
    }
   ],
   "source": [
    "# Similarly for recall\n",
    "\n",
    "recall_score(y7_test,log_reg.predict(X_test))"
   ]
  },
  {
   "cell_type": "markdown",
   "metadata": {},
   "source": [
    "# Cross Validation for our Binary Classifier\n",
    "\n",
    "Remember we mentioned _cross validation_ earlier in the notebook?  Here, we are going to train a Logistic Regression model on folds of the training data and return a performance metric on the remaining portion."
   ]
  },
  {
   "cell_type": "code",
   "execution_count": 210,
   "metadata": {},
   "outputs": [],
   "source": [
    "from sklearn.model_selection import cross_val_score"
   ]
  },
  {
   "cell_type": "code",
   "execution_count": 211,
   "metadata": {},
   "outputs": [
    {
     "name": "stderr",
     "output_type": "stream",
     "text": [
      "C:\\Users\\casey\\Anaconda3\\lib\\site-packages\\sklearn\\linear_model\\logistic.py:433: FutureWarning: Default solver will be changed to 'lbfgs' in 0.22. Specify a solver to silence this warning.\n",
      "  FutureWarning)\n",
      "C:\\Users\\casey\\Anaconda3\\lib\\site-packages\\sklearn\\linear_model\\logistic.py:433: FutureWarning: Default solver will be changed to 'lbfgs' in 0.22. Specify a solver to silence this warning.\n",
      "  FutureWarning)\n",
      "C:\\Users\\casey\\Anaconda3\\lib\\site-packages\\sklearn\\linear_model\\logistic.py:433: FutureWarning: Default solver will be changed to 'lbfgs' in 0.22. Specify a solver to silence this warning.\n",
      "  FutureWarning)\n"
     ]
    },
    {
     "data": {
      "text/plain": [
       "array([0.94117647, 0.91176471, 0.96875   ])"
      ]
     },
     "execution_count": 211,
     "metadata": {},
     "output_type": "execute_result"
    }
   ],
   "source": [
    "# The CV argument is the number of cross validation folds we will use\n",
    "# A cross validation fold is a fraction of the total training data, here we split it into 3\n",
    "# We use 2 for training and 1 for validation...that way we evaluate the model on data is hasn't seen before\n",
    "\n",
    "cross_val_score(log_reg, X_train, y7, cv=3, scoring='accuracy')"
   ]
  },
  {
   "cell_type": "code",
   "execution_count": 170,
   "metadata": {},
   "outputs": [
    {
     "name": "stderr",
     "output_type": "stream",
     "text": [
      "C:\\Users\\casey\\Anaconda3\\lib\\site-packages\\sklearn\\linear_model\\logistic.py:433: FutureWarning: Default solver will be changed to 'lbfgs' in 0.22. Specify a solver to silence this warning.\n",
      "  FutureWarning)\n",
      "C:\\Users\\casey\\Anaconda3\\lib\\site-packages\\sklearn\\linear_model\\logistic.py:433: FutureWarning: Default solver will be changed to 'lbfgs' in 0.22. Specify a solver to silence this warning.\n",
      "  FutureWarning)\n",
      "C:\\Users\\casey\\Anaconda3\\lib\\site-packages\\sklearn\\linear_model\\logistic.py:433: FutureWarning: Default solver will be changed to 'lbfgs' in 0.22. Specify a solver to silence this warning.\n",
      "  FutureWarning)\n"
     ]
    },
    {
     "data": {
      "text/plain": [
       "array([0.75      , 0.66666667, 1.        ])"
      ]
     },
     "execution_count": 170,
     "metadata": {},
     "output_type": "execute_result"
    }
   ],
   "source": [
    "# Do it again for precision)\n",
    "cross_val_score(log_reg, X_train, y7, cv=3, scoring='precision')"
   ]
  },
  {
   "cell_type": "markdown",
   "metadata": {},
   "source": [
    "**To do**\n",
    "+ Run the cross_val_score function on the log_reg model, but use the 'recall' as the scoring function"
   ]
  },
  {
   "cell_type": "code",
   "execution_count": 227,
   "metadata": {},
   "outputs": [],
   "source": [
    "# Write your code here\n"
   ]
  },
  {
   "cell_type": "markdown",
   "metadata": {},
   "source": [
    "# Confusion Matrix for Binary Classifier\n",
    "\n",
    "+ Accuracy := (True Positives + True Negatives)/Total\n",
    "+ Precision := (True Positives)/(True Positives + False Positives)\n",
    "+ Recall := (True Positives)/(True Positives + False Negatives)"
   ]
  },
  {
   "cell_type": "code",
   "execution_count": 172,
   "metadata": {},
   "outputs": [],
   "source": [
    "from sklearn.metrics import confusion_matrix"
   ]
  },
  {
   "cell_type": "code",
   "execution_count": 212,
   "metadata": {},
   "outputs": [
    {
     "data": {
      "text/html": [
       "<div>\n",
       "<style scoped>\n",
       "    .dataframe tbody tr th:only-of-type {\n",
       "        vertical-align: middle;\n",
       "    }\n",
       "\n",
       "    .dataframe tbody tr th {\n",
       "        vertical-align: top;\n",
       "    }\n",
       "\n",
       "    .dataframe thead th {\n",
       "        text-align: right;\n",
       "    }\n",
       "</style>\n",
       "<table border=\"1\" class=\"dataframe\">\n",
       "  <thead>\n",
       "    <tr style=\"text-align: right;\">\n",
       "      <th></th>\n",
       "      <th>Predicted False</th>\n",
       "      <th>Predicted True</th>\n",
       "    </tr>\n",
       "  </thead>\n",
       "  <tbody>\n",
       "    <tr>\n",
       "      <th>Actual False</th>\n",
       "      <td>88</td>\n",
       "      <td>1</td>\n",
       "    </tr>\n",
       "    <tr>\n",
       "      <th>Actual True</th>\n",
       "      <td>3</td>\n",
       "      <td>8</td>\n",
       "    </tr>\n",
       "  </tbody>\n",
       "</table>\n",
       "</div>"
      ],
      "text/plain": [
       "              Predicted False  Predicted True\n",
       "Actual False               88               1\n",
       "Actual True                 3               8"
      ]
     },
     "execution_count": 212,
     "metadata": {},
     "output_type": "execute_result"
    }
   ],
   "source": [
    "# Run this code\n",
    "\n",
    "pd.DataFrame(confusion_matrix(y7_test, log_reg.predict(X_test)), index = ['Actual False','Actual True'],\n",
    "            columns = ['Predicted False', 'Predicted True'])"
   ]
  },
  {
   "cell_type": "code",
   "execution_count": 213,
   "metadata": {},
   "outputs": [
    {
     "name": "stdout",
     "output_type": "stream",
     "text": [
      "0.96\n"
     ]
    }
   ],
   "source": [
    "# Using the formula, we will calculat the accuracy of the model\n",
    "\n",
    "accuracy = (88 + 8)/100\n",
    "print(accuracy)"
   ]
  },
  {
   "cell_type": "code",
   "execution_count": 214,
   "metadata": {},
   "outputs": [
    {
     "data": {
      "text/plain": [
       "0.96"
      ]
     },
     "execution_count": 214,
     "metadata": {},
     "output_type": "execute_result"
    }
   ],
   "source": [
    "# compare this with the accuracy score returned from the sklearn metrics function for accuracy_score\n",
    "\n",
    "accuracy_score(y7_test, log_reg.predict(X_test))"
   ]
  },
  {
   "cell_type": "markdown",
   "metadata": {},
   "source": [
    "**To do**\n",
    "+ Calculate the precision using the confusion matrix above\n",
    "+ Calculate the precision using the precision_score function from sklearn\n",
    "+ Calculate the recall using the confusion matrix above\n",
    "+ Calculate the recall using the recall_score function from sklearn"
   ]
  },
  {
   "cell_type": "code",
   "execution_count": 224,
   "metadata": {},
   "outputs": [],
   "source": [
    "# Write your code here"
   ]
  },
  {
   "cell_type": "code",
   "execution_count": 224,
   "metadata": {},
   "outputs": [],
   "source": [
    "# Write your code here"
   ]
  },
  {
   "cell_type": "code",
   "execution_count": 225,
   "metadata": {},
   "outputs": [],
   "source": [
    "# Write your code here"
   ]
  },
  {
   "cell_type": "code",
   "execution_count": 225,
   "metadata": {},
   "outputs": [],
   "source": [
    "# Write your code here"
   ]
  },
  {
   "cell_type": "markdown",
   "metadata": {},
   "source": [
    "# Multiclass Classification using RandomForest Classifier\n",
    "\n",
    "+ We aren't limited to classifying two things, but we can classify multiple things\n",
    "+ Specifically, place an observation into 1 of K buckets\n",
    "+ We'll use a RandomForestClassifier in this section\n",
    "    + We'll discuss trees next week"
   ]
  },
  {
   "cell_type": "code",
   "execution_count": 215,
   "metadata": {},
   "outputs": [
    {
     "name": "stderr",
     "output_type": "stream",
     "text": [
      "C:\\Users\\casey\\Anaconda3\\lib\\site-packages\\sklearn\\ensemble\\forest.py:246: FutureWarning: The default value of n_estimators will change from 10 in version 0.20 to 100 in 0.22.\n",
      "  \"10 in version 0.20 to 100 in 0.22.\", FutureWarning)\n"
     ]
    },
    {
     "data": {
      "text/plain": [
       "RandomForestClassifier(bootstrap=True, class_weight=None, criterion='gini',\n",
       "            max_depth=None, max_features='auto', max_leaf_nodes=None,\n",
       "            min_impurity_decrease=0.0, min_impurity_split=None,\n",
       "            min_samples_leaf=1, min_samples_split=2,\n",
       "            min_weight_fraction_leaf=0.0, n_estimators=10, n_jobs=None,\n",
       "            oob_score=False, random_state=None, verbose=0,\n",
       "            warm_start=False)"
      ]
     },
     "execution_count": 215,
     "metadata": {},
     "output_type": "execute_result"
    }
   ],
   "source": [
    "from sklearn.ensemble import RandomForestClassifier\n",
    "rtree = RandomForestClassifier()\n",
    "rtree.fit(X_train,y_train)"
   ]
  },
  {
   "cell_type": "code",
   "execution_count": 216,
   "metadata": {},
   "outputs": [
    {
     "data": {
      "image/png": "[encoded data removed]",
      "text/plain": [
       "<Figure size 432x288 with 1 Axes>"
      ]
     },
     "metadata": {
      "needs_background": "light"
     },
     "output_type": "display_data"
    },
    {
     "name": "stdout",
     "output_type": "stream",
     "text": [
      "['9']\n"
     ]
    }
   ],
   "source": [
    "mynumber = X_train[4]\n",
    "mynumber_img = mynumber.reshape(28,28)\n",
    "plt.imshow(mynumber_img)\n",
    "plt.show()\n",
    "print(rtree.predict([mynumber]))"
   ]
  },
  {
   "cell_type": "code",
   "execution_count": 217,
   "metadata": {},
   "outputs": [
    {
     "data": {
      "image/png": "[encoded data removed]",
      "text/plain": [
       "<Figure size 432x288 with 1 Axes>"
      ]
     },
     "metadata": {
      "needs_background": "light"
     },
     "output_type": "display_data"
    },
    {
     "name": "stdout",
     "output_type": "stream",
     "text": [
      "['1']\n"
     ]
    }
   ],
   "source": [
    "mynumber = X_train[23]\n",
    "mynumber_img = mynumber.reshape(28,28)\n",
    "plt.imshow(mynumber_img)\n",
    "plt.show()\n",
    "print(rtree.predict([mynumber]))"
   ]
  },
  {
   "cell_type": "markdown",
   "metadata": {},
   "source": [
    "**To Do**\n",
    "+ Use the predict_proba to show the probabilities that this observations falls into a certain class\n",
    "+ Which are the highest but which are also represented?\n",
    "+ Do the same with another observation"
   ]
  },
  {
   "cell_type": "code",
   "execution_count": 226,
   "metadata": {},
   "outputs": [],
   "source": [
    "# Write your code here"
   ]
  },
  {
   "cell_type": "markdown",
   "metadata": {},
   "source": [
    "# Confusion Matrix for Multiclass Classification"
   ]
  },
  {
   "cell_type": "code",
   "execution_count": 190,
   "metadata": {},
   "outputs": [
    {
     "data": {
      "text/plain": [
       "array([[ 8,  0,  0,  0,  0,  0,  0,  0,  0,  0],\n",
       "       [ 0, 12,  0,  0,  0,  0,  0,  0,  0,  1],\n",
       "       [ 2,  3,  8,  1,  0,  0,  0,  0,  0,  0],\n",
       "       [ 2,  0,  1,  6,  0,  0,  0,  0,  1,  0],\n",
       "       [ 0,  1,  1,  0,  4,  0,  0,  0,  0,  4],\n",
       "       [ 0,  2,  0,  2,  0,  3,  0,  0,  0,  0],\n",
       "       [ 1,  0,  0,  0,  0,  0,  6,  0,  0,  1],\n",
       "       [ 1,  2,  0,  0,  1,  0,  0,  7,  0,  0],\n",
       "       [ 0,  1,  0,  1,  1,  0,  0,  0,  2,  2],\n",
       "       [ 0,  0,  0,  0,  4,  0,  0,  2,  0,  6]], dtype=int64)"
      ]
     },
     "execution_count": 190,
     "metadata": {},
     "output_type": "execute_result"
    }
   ],
   "source": [
    "confusion_matrix(y_test, rtree.predict(X_test))"
   ]
  },
  {
   "cell_type": "markdown",
   "metadata": {},
   "source": [
    "How helpful is this?"
   ]
  },
  {
   "cell_type": "code",
   "execution_count": 219,
   "metadata": {},
   "outputs": [
    {
     "data": {
      "image/png": "[encoded data removed]",
      "text/plain": [
       "<Figure size 720x504 with 2 Axes>"
      ]
     },
     "metadata": {
      "needs_background": "light"
     },
     "output_type": "display_data"
    }
   ],
   "source": [
    "import seaborn as sns\n",
    "plt.figure(figsize=(10,7))\n",
    "sns.heatmap(confusion_matrix(y_test, rtree.predict(X_test)))\n",
    "plt.ylabel('Actual')\n",
    "plt.xlabel('Predicted')\n",
    "plt.show()"
   ]
  },
  {
   "cell_type": "markdown",
   "metadata": {},
   "source": [
    "**To Do**\n",
    "+ Look at the heatmap above\n",
    "+ Notice what the numbers in the diagonal represent - the instances where the classification/prediction is the same as the actual\n",
    "+ How often do we predict a 4 when it is actually a 0?\n",
    "+ How often do we predicted a 7 when it is actually a 9?\n",
    "+ Run the code below"
   ]
  },
  {
   "cell_type": "code",
   "execution_count": 220,
   "metadata": {},
   "outputs": [
    {
     "data": {
      "image/png": "[encoded data removed]",
      "text/plain": [
       "<Figure size 720x504 with 2 Axes>"
      ]
     },
     "metadata": {
      "needs_background": "light"
     },
     "output_type": "display_data"
    }
   ],
   "source": [
    "cmat = confusion_matrix(y_test, rtree.predict(X_test))\n",
    "plt.figure(figsize=(10,7))\n",
    "rs = (cmat).sum(axis=1, keepdims=True)\n",
    "norm_cmat = cmat/rs\n",
    "np.fill_diagonal(norm_cmat,0)\n",
    "sns.heatmap(norm_cmat)\n",
    "plt.title('Error Rate')\n",
    "plt.ylabel('Actual')\n",
    "plt.xlabel('Predicted')\n",
    "plt.show()"
   ]
  },
  {
   "cell_type": "markdown",
   "metadata": {},
   "source": [
    "**To do**\n",
    "+ After looking at the error rate - what numbers are misclassified the most?\n",
    "+ Is there any reason why they would be missclassified more often?"
   ]
  },
  {
   "cell_type": "markdown",
   "metadata": {},
   "source": [
    "# Homework\n",
    "+ Use the nameplate or trim level information in the datasci practicum data set for the project as a multiclass target\n",
    "+ Go to https://scikit-learn.org/stable/auto_examples/classification/plot_classifier_comparison.html and look at the comparison of classifiers\n",
    "+ Create a multi-class classification model to predict what the nameplate or trim of the vehicle is\n",
    "    + Choose a different classifier than the ones chosen in class today\n",
    "    + Use the MSRP of the vehicle as well as other features from the dataset as well as others you or your team-mates have created\n",
    "+ Which nameplates are missclassified as what other nameplates and why?\n",
    "+ Show your performance metrics\n",
    "    + Which is more important for your project?\n",
    "        + Accuracy?\n",
    "        + Precision?\n",
    "        + Recall?\n",
    "+ Put your work in this notebook, rename it by adding your name, upload it to your Github, and let me know"
   ]
  },
  {
   "cell_type": "markdown",
   "metadata": {},
   "source": [
    "# End"
   ]
  }
 ],
 "metadata": {
  "kernelspec": {
   "display_name": "Python 3",
   "language": "python",
   "name": "python3"
  },
  "language_info": {
   "codemirror_mode": {
    "name": "ipython",
    "version": 3
   },
   "file_extension": ".py",
   "mimetype": "text/x-python",
   "name": "python",
   "nbconvert_exporter": "python",
   "pygments_lexer": "ipython3",
   "version": "3.7.3"
  }
 },
 "nbformat": 4,
 "nbformat_minor": 2
}
